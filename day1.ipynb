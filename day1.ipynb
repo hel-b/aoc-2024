{
 "cells": [
  {
   "cell_type": "markdown",
   "metadata": {},
   "source": [
    "Day1 Solution"
   ]
  },
  {
   "cell_type": "code",
   "execution_count": 52,
   "metadata": {},
   "outputs": [
    {
     "name": "stdout",
     "output_type": "stream",
     "text": [
      "1765812\n"
     ]
    }
   ],
   "source": [
    "data = []\n",
    "with open(\"day1.txt\", \"r\") as file:\n",
    "    # lines = \n",
    "    data =[line.split() for line in file.read().splitlines()]\n",
    "# data = [[3,4],\n",
    "#         [4,3],\n",
    "#         [2,5],\n",
    "#         [1,3],\n",
    "#         [3,9],\n",
    "#         [3,3]]\n",
    "\n",
    "list1 = [int(x[0]) for x in data]\n",
    "list2 = [int(x[1]) for x in data]\n",
    "list1.sort()\n",
    "list2.sort()\n",
    "\n",
    "solution1 = sum([abs(list2[i]-list1[i]) for i in range(len(data))])\n",
    "\n",
    "print(solution1)\n",
    "\n"
   ]
  },
  {
   "cell_type": "markdown",
   "metadata": {},
   "source": [
    "Day 2"
   ]
  },
  {
   "cell_type": "code",
   "execution_count": 53,
   "metadata": {},
   "outputs": [
    {
     "name": "stdout",
     "output_type": "stream",
     "text": [
      "20520794\n"
     ]
    }
   ],
   "source": [
    "similarity = sum([list1[i]*list2.count(list1[i]) for i in range(len(data))])\n",
    "\n",
    "\n",
    "print(similarity)\n"
   ]
  }
 ],
 "metadata": {
  "kernelspec": {
   "display_name": "base",
   "language": "python",
   "name": "python3"
  },
  "language_info": {
   "codemirror_mode": {
    "name": "ipython",
    "version": 3
   },
   "file_extension": ".py",
   "mimetype": "text/x-python",
   "name": "python",
   "nbconvert_exporter": "python",
   "pygments_lexer": "ipython3",
   "version": "3.12.7"
  }
 },
 "nbformat": 4,
 "nbformat_minor": 2
}
