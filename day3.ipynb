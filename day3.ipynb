{
 "cells": [
  {
   "cell_type": "code",
   "execution_count": 28,
   "metadata": {},
   "outputs": [
    {
     "name": "stdout",
     "output_type": "stream",
     "text": [
      "test data - part 1: 161\n",
      "full data - part 1: 184122457\n"
     ]
    }
   ],
   "source": [
    "\n",
    "\n",
    "import re\n",
    "test_line = \"xmul(2,4)%&mul[3,7]!@^do_not_mul(5,5)+mul(32,64]then(mul(11,8)mul(8,5))\"\n",
    "def line_matches(line):\n",
    "    regex = r\"mul\\((\\d+),(\\d+)\\)\"\n",
    "    return [[int(x) for x in match] for match in re.findall(regex, line)]\n",
    "\n",
    "test_matches = line_matches(test_line)\n",
    "print(f\"test data - part 1: {sum( [x[0] * x[1] for x in test_matches])}\")\n",
    "data = []\n",
    "with open(\"day3.txt\") as f:\n",
    "    data = f.readlines()\n",
    "matches = []\n",
    "for line in data:\n",
    "    matches[len(matches):] = line_matches(line)\n",
    "print(f\"full data - part 1: {sum( [x[0] * x[1] for x in matches])}\")\n",
    "\n"
   ]
  },
  {
   "cell_type": "code",
   "execution_count": 39,
   "metadata": {},
   "outputs": [
    {
     "name": "stdout",
     "output_type": "stream",
     "text": [
      "test data - part 2: 48\n",
      "full data - part 2: 107862689\n"
     ]
    }
   ],
   "source": [
    "# make regex to include do() and don't() with mul()\n",
    "test_line2 = \"xmul(2,4)&mul[3,7]!^don't()_mul(5,5)+mul(32,64](mul(11,8)undo()?mul(8,5))\"\n",
    "def line_matches2(line):\n",
    "    regex = r\"mul\\((\\d+),(\\d+)\\)|(do\\(\\))|(don't\\(\\))\"\n",
    "    raw = re.findall(regex, line)\n",
    "    return [[int(x) if x.isdigit() else False if x == \"\" else True for x in match] for match in raw]\n",
    "    \n",
    "def eval_matches(matches):\n",
    "    out = 0\n",
    "    canMul = True\n",
    "    for x in matches:\n",
    "        if x[2]:\n",
    "            canMul = True\n",
    "        if x[3]:\n",
    "            canMul = False\n",
    "        if x[0] and x[1] and canMul:\n",
    "            out += x[0] * x[1]\n",
    "    return out\n",
    "test_matches2 = line_matches2(test_line2)\n",
    "print(f\"test data - part 2: {eval_matches(test_matches2)}\")\n",
    "matches2 = []\n",
    "for line in data:\n",
    "    matches2[len(matches):] = line_matches2(line)\n",
    "print(f\"full data - part 2: {eval_matches(matches2)}\")"
   ]
  }
 ],
 "metadata": {
  "kernelspec": {
   "display_name": "base",
   "language": "python",
   "name": "python3"
  },
  "language_info": {
   "codemirror_mode": {
    "name": "ipython",
    "version": 3
   },
   "file_extension": ".py",
   "mimetype": "text/x-python",
   "name": "python",
   "nbconvert_exporter": "python",
   "pygments_lexer": "ipython3",
   "version": "3.12.7"
  }
 },
 "nbformat": 4,
 "nbformat_minor": 2
}
