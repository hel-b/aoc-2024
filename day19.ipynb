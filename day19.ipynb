{
 "cells": [
  {
   "cell_type": "code",
   "execution_count": null,
   "metadata": {},
   "outputs": [
    {
     "name": "stdout",
     "output_type": "stream",
     "text": [
      "part 1 - test: 6\n",
      "part 1 - result: 285\n"
     ]
    }
   ],
   "source": [
    "\n",
    "def solve(filename):\n",
    "    tmp1, tmp2 = open(filename).read().split(\"\\n\\n\")\n",
    "    pats = tmp1.split(\", \")\n",
    "    towels = tmp2.split(\"\\n\")\n",
    "    memory = {}\n",
    "    def memoize(f):\n",
    "        def inner(*args):\n",
    "            if args not in memory:\n",
    "                memory[args] = f(*args)\n",
    "            return memory[args]\n",
    "        return inner\n",
    "    @memoize\n",
    "    def check_patterns(str):\n",
    "        str_lngth = len(str)\n",
    "        for pat in pats:\n",
    "            pat_lngth = len(pat)\n",
    "            if pat_lngth <= str_lngth and str[:len(pat)] == pat:\n",
    "                if str_lngth == pat_lngth or check_patterns(str[pat_lngth:]):\n",
    "                    return True\n",
    "        return False\n",
    "\n",
    "    cnt = 0\n",
    "    for towel in towels:\n",
    "        cnt += check_patterns(towel)\n",
    "    return cnt\n",
    "print(f\"part 1 - test: {solve(\"./test19.txt\")}\") \n",
    "print(f\"part 1 - result: {solve(\"./day19.txt\")}\")            \n"
   ]
  },
  {
   "cell_type": "code",
   "execution_count": 17,
   "metadata": {},
   "outputs": [
    {
     "name": "stdout",
     "output_type": "stream",
     "text": [
      "part 2 - test: 16\n"
     ]
    }
   ],
   "source": [
    "\n",
    "def solve2(filename):\n",
    "    tmp1, tmp2 = open(filename).read().split(\"\\n\\n\")\n",
    "    pats = tmp1.split(\", \")\n",
    "    towels = tmp2.split(\"\\n\")\n",
    "    memory = {}\n",
    "    def memoize(f):\n",
    "        def inner(*args):\n",
    "            if args not in memory:\n",
    "                memory[args] = f(*args)\n",
    "            return memory[args]\n",
    "        return inner\n",
    "    @memoize\n",
    "    def check_patterns(str):\n",
    "        str_lngth = len(str)\n",
    "        combs = 0\n",
    "        for pat in pats:\n",
    "            pat_lngth = len(pat)\n",
    "            if pat_lngth <= str_lngth and str[:len(pat)] == pat:\n",
    "                if str_lngth == pat_lngth:\n",
    "                    combs += 1\n",
    "                else:\n",
    "                    combs +=  check_patterns(str[pat_lngth:])\n",
    "        return combs\n",
    "\n",
    "    cnt = 0\n",
    "    for towel in towels:\n",
    "        cnt += check_patterns(towel)\n",
    "    return cnt\n",
    "\n",
    "print(f\"part 2 - test: {solve2(\"./test19.txt\")}\") \n",
    "print(f\"part 2 - result: {solve2(\"./day19.txt\")}\")  "
   ]
  }
 ],
 "metadata": {
  "kernelspec": {
   "display_name": "base",
   "language": "python",
   "name": "python3"
  },
  "language_info": {
   "codemirror_mode": {
    "name": "ipython",
    "version": 3
   },
   "file_extension": ".py",
   "mimetype": "text/x-python",
   "name": "python",
   "nbconvert_exporter": "python",
   "pygments_lexer": "ipython3",
   "version": "3.12.2"
  }
 },
 "nbformat": 4,
 "nbformat_minor": 2
}
