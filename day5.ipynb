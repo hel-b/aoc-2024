{
 "cells": [
  {
   "cell_type": "code",
   "execution_count": 24,
   "metadata": {},
   "outputs": [
    {
     "name": "stdout",
     "output_type": "stream",
     "text": [
      "part 1 -  test: 143\n",
      "part 1 - result: 6034\n"
     ]
    }
   ],
   "source": [
    "test = [\n",
    "    \"47|53\",\n",
    "    \"97|13\",\n",
    "    \"97|61\",\n",
    "    \"97|47\",\n",
    "    \"75|29\",\n",
    "    \"61|13\",\n",
    "    \"75|53\",\n",
    "    \"29|13\",\n",
    "    \"97|29\",\n",
    "    \"53|29\",\n",
    "    \"61|53\",\n",
    "    \"97|53\",\n",
    "    \"61|29\",\n",
    "    \"47|13\",\n",
    "    \"75|47\",\n",
    "    \"97|75\",\n",
    "    \"47|61\",\n",
    "    \"75|61\",\n",
    "    \"47|29\",\n",
    "    \"75|13\",\n",
    "    \"53|13\",\n",
    "    \"\",\n",
    "    \"75,47,61,53,29\",\n",
    "    \"97,61,53,29,13\",\n",
    "    \"75,29,13\",\n",
    "    \"75,97,47,61,53\",\n",
    "    \"61,13,29\",\n",
    "    \"97,13,75,29,47\",\n",
    "]\n",
    "def part1(data):\n",
    "    _idx = data.index(\"\")\n",
    "    rules = [[int(x) for x in str.split(\"|\")] for str in data[:_idx]]\n",
    "    updates = [[int(x) for x in str.split(\",\")] for str in data[_idx+1:]]\n",
    "    isUpdate = [True for _ in updates]\n",
    "    r_d = {}\n",
    "    cnt = 0\n",
    "    # append rules to dict\n",
    "    for rule in rules:\n",
    "        r_d [rule[0]] = []\n",
    "    for rule in rules:\n",
    "        r_d [rule[0]].append(rule[1])\n",
    "\n",
    "    for update in updates:\n",
    "        isUpdate = True\n",
    "        for i in range(len(update)):\n",
    "            if update[i] in r_d:\n",
    "                for r in r_d[update[i]]:\n",
    "                    if r in update[:i]: isUpdate = False\n",
    "        if isUpdate:\n",
    "            cnt += update[int((len(update)-1)/2)]\n",
    "    return cnt\n",
    "\n",
    "print(f\"part 1 -  test: {part1(test)}\")\n",
    "full_data = []\n",
    "with open(\"./day5.txt\", \"r\") as f:\n",
    "    #remove \\n from each line\n",
    "    full_data =[ line.strip('\\n') for line in f.readlines()]\n",
    "print(f\"part 1 - result: {part1(full_data)}\")\n"
   ]
  },
  {
   "cell_type": "code",
   "execution_count": null,
   "metadata": {},
   "outputs": [
    {
     "name": "stdout",
     "output_type": "stream",
     "text": [
      "part 2 -  test: 123\n",
      "part 2 - result: 6305\n"
     ]
    }
   ],
   "source": [
    "def part2(data):\n",
    "    _idx = data.index(\"\")\n",
    "    rules = [[int(x) for x in str.split(\"|\")] for str in data[:_idx]]\n",
    "    updates = [[int(x) for x in str.split(\",\")] for str in data[_idx+1:]]\n",
    "    isUpdate = [True for _ in updates]\n",
    "    r_d = {}\n",
    "    cnt = 0\n",
    "    # append rules to dict\n",
    "    for rule in rules:\n",
    "        r_d [rule[0]] = []\n",
    "    for rule in rules:\n",
    "        r_d [rule[0]].append(rule[1])\n",
    "    def fix_order(update):\n",
    "        wasOutOfOrder = False\n",
    "        for i in range(len(update)):\n",
    "            if update[i] in r_d:\n",
    "                for r in r_d[update[i]]:\n",
    "                    if r in update[:i]: \n",
    "                        r_idx = update.index(r)\n",
    "                        wasOutOfOrder = True\n",
    "                        update =  update[:r_idx] + update[r_idx+1:i+1] + [r] + update[i+1:]\n",
    "        if wasOutOfOrder:\n",
    "            while True:\n",
    "                isOutOfOrder, update = fix_order(update)\n",
    "                if not isOutOfOrder: break\n",
    "        return wasOutOfOrder, update\n",
    "\n",
    "    for update in updates:\n",
    "        wasOutOfOrder, update = fix_order(update)\n",
    "        if wasOutOfOrder:\n",
    "            cnt += update[int((len(update)-1)/2)]\n",
    "    return cnt\n",
    "\n",
    "print(f\"part 2 -  test: {part2(test)}\")\n",
    "print(f\"part 2 - result: {part2(full_data)}\")"
   ]
  }
 ],
 "metadata": {
  "kernelspec": {
   "display_name": "base",
   "language": "python",
   "name": "python3"
  },
  "language_info": {
   "codemirror_mode": {
    "name": "ipython",
    "version": 3
   },
   "file_extension": ".py",
   "mimetype": "text/x-python",
   "name": "python",
   "nbconvert_exporter": "python",
   "pygments_lexer": "ipython3",
   "version": "3.12.7"
  }
 },
 "nbformat": 4,
 "nbformat_minor": 2
}
