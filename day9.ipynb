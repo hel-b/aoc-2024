{
 "cells": [
  {
   "cell_type": "code",
   "execution_count": 1,
   "metadata": {},
   "outputs": [
    {
     "name": "stdout",
     "output_type": "stream",
     "text": [
      "part 1 - test: 1928\n",
      "part 1 - real: 6154342787400\n"
     ]
    }
   ],
   "source": [
    "test = \"2333133121414131402\"\n",
    "full_data = \"\"\n",
    "with open(\"day9.txt\") as f:\n",
    "    full_data = f.readline().strip('\\n')\n",
    "\n",
    "\n",
    "data = test\n",
    "def solve(data):\n",
    "    disk = []\n",
    "    for i,d in enumerate(data):\n",
    "        if i % 2 == 0:\n",
    "            disk.extend([int(i/2)]*int(d))\n",
    "        else:\n",
    "            disk.extend(['.']*int(d))\n",
    "    i_b = len(disk) - 1\n",
    "    i_s = disk.index('.')\n",
    "    while  i_b > i_s: \n",
    "        disk[i_s]  = disk[i_b]\n",
    "        disk[i_b] = '.'\n",
    "        i_s = disk.index('.')\n",
    "        while disk[i_b] == '.' and i_b != 0:\n",
    "            i_b -= 1\n",
    "    return sum([i*d for i,d in enumerate(disk[:i_s])])    \n",
    "print(f\"part 1 - test: {solve(test)}\")\n",
    "print(f\"part 1 - real: {solve(full_data)}\")"
   ]
  },
  {
   "cell_type": "code",
   "execution_count": null,
   "metadata": {},
   "outputs": [
    {
     "name": "stdout",
     "output_type": "stream",
     "text": [
      "part 2 - test: 2858\n",
      "part 2 - full: 6183632723350\n"
     ]
    }
   ],
   "source": [
    "def solve2(data):\n",
    "    disk = []\n",
    "    spaces = []\n",
    "    blocks = {}\n",
    "    for i, d in enumerate(data):\n",
    "        if i % 2 == 0:\n",
    "            blocks[int(i / 2)] = {\"i\": len(disk), \"w\": int(d)}\n",
    "            disk.extend([int(i / 2)] * int(d))\n",
    "        else:\n",
    "            spaces.append([len(disk), int(d)])\n",
    "            disk.extend([\".\"] * int(d))      \n",
    "    for i in range(len(spaces)):\n",
    "        spaces[i].append(i)\n",
    "    max_ID = int((len(data) - 1)/2)\n",
    "    for d in range(max_ID,-1,-1):\n",
    "       tmp = sorted([s for i, s in enumerate(spaces) if s[1] >= blocks[d][\"w\"] and s[0] < blocks[d][\"i\"]], key=lambda s: s[0])\n",
    "       if len(tmp) > 0:\n",
    "            s = tmp[0]\n",
    "            disk[s[0] : s[0] + blocks[d][\"w\"]] = [d] * blocks[d][\"w\"]\n",
    "            disk[blocks[d][\"i\"]: blocks[d][\"i\"] + blocks[d][\"w\"]] = [\".\"] * blocks[d][\"w\"]\n",
    "            blocks[d][\"i\"] = s[0]\n",
    "            if  blocks[d][\"w\"] == s[1]:\n",
    "                spaces[s[2]][1] = 0\n",
    "            else:\n",
    "                spaces[s[2]][1] = s[1] - blocks[d][\"w\"]\n",
    "                spaces[s[2]][0] = s[0] + blocks[d][\"w\"]\n",
    "    return sum([i * d for i, d in enumerate(disk) if d != \".\"])\n",
    "\n",
    "\n",
    "print(f\"part 2 - test: {solve2(test)}\")\n",
    "print(f\"part 2 - full: {solve2(full_data)}\")"
   ]
  }
 ],
 "metadata": {
  "kernelspec": {
   "display_name": "base",
   "language": "python",
   "name": "python3"
  },
  "language_info": {
   "codemirror_mode": {
    "name": "ipython",
    "version": 3
   },
   "file_extension": ".py",
   "mimetype": "text/x-python",
   "name": "python",
   "nbconvert_exporter": "python",
   "pygments_lexer": "ipython3",
   "version": "3.12.7"
  }
 },
 "nbformat": 4,
 "nbformat_minor": 2
}
