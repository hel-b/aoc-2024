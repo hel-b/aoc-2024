{
 "cells": [
  {
   "cell_type": "code",
   "execution_count": null,
   "metadata": {},
   "outputs": [
    {
     "name": "stdout",
     "output_type": "stream",
     "text": [
      "part 1 - test: 480\n",
      "part 1 - test: 480\n",
      "part 1 - full: 31623\n",
      "part 2 - full: 316230000000000000\n"
     ]
    }
   ],
   "source": [
    "test = \"\"\"Button A: X+94, Y+34\n",
    "Button B: X+22, Y+67\n",
    "Prize: X=8400, Y=5400\n",
    "\n",
    "Button A: X+26, Y+66\n",
    "Button B: X+67, Y+21\n",
    "Prize: X=12748, Y=12176\n",
    "\n",
    "Button A: X+17, Y+86\n",
    "Button B: X+84, Y+37\n",
    "Prize: X=7870, Y=6450\n",
    "\n",
    "Button A: X+69, Y+23\n",
    "Button B: X+27, Y+71\n",
    "Prize: X=18641, Y=10279\"\"\"\n",
    "def solve(txt):\n",
    "    labels = (\"A\", \"B\", \"P\")\n",
    "    machines = tuple(\n",
    "        {\n",
    "            labels[i]: tuple(\n",
    "                int(str.replace(\"X\", \"\").replace(\"Y\", \"\").replace(\"=\", \"\"))\n",
    "                for str in line.split(\":\")[1].split(\", \")\n",
    "            )\n",
    "            for i, line in enumerate(set.split(\"\\n\"))\n",
    "        }\n",
    "        for set in txt.split(\"\\n\\n\")\n",
    "    )\n",
    "\n",
    "    def get_combos(m):\n",
    "        get_min_p = lambda m, b: min(\n",
    "            int(m[\"P\"][0] / m[b][0]), int(m[\"P\"][1] / m[b][1])\n",
    "        )\n",
    "        pA_max = get_min_p(m, \"A\")\n",
    "        pB_max = get_min_p(m, \"B\")\n",
    "        get_max_xy = lambda b: 0 if m[b][0] > m[b][1] else 1\n",
    "        xyA_max = get_max_xy(\"A\")\n",
    "        xyB_max = get_max_xy(\"B\")\n",
    "        xy_match = (\n",
    "            lambda xy: pB * m[\"B\"][xy] + pA * m[\"A\"][xy] == m[\"P\"][xy] and pB * m[\"B\"][xy]\n",
    "        )\n",
    "        combs = []\n",
    "        for pA in range(pA_max + 1):\n",
    "            pB_min = pB_max - int(m[\"A\"][xyB_max] * pA / m[\"B\"][xyB_max])\n",
    "            for pB in range(pB_min, pB_max + 1):\n",
    "                if xy_match(0) and xy_match(1):\n",
    "                    combs.append({\"A\": pA, \"B\": pB})\n",
    "        return combs\n",
    "\n",
    "\n",
    "    tokens = 0\n",
    "    for m in machines:\n",
    "        combos = get_combos(m)\n",
    "        if combos:\n",
    "            tokens += min([c[\"A\"] * 3 + c[\"B\"] for c in get_combos(m)])\n",
    "    return tokens\n",
    "print(f\"part 1 - test: {solve(test)}\")\n",
    "test_txt = \"\"\n",
    "with open(\"./test13.txt\") as f:\n",
    "    test_txt = f.read()\n",
    "print(f\"part 1 - test: {solve(test_txt)}\")\n",
    "full_txt = \"\"\n",
    "with open(\"./day13.txt\") as f:\n",
    "    full_txt = f.read()\n",
    "\n",
    "print(f\"part 1 - full: {solve(full_txt)}\")\n",
    "print(f\"part 2 - full: {solve(full_txt)*10000000000000}\")"
   ]
  },
  {
   "cell_type": "code",
   "execution_count": null,
   "metadata": {},
   "outputs": [
    {
     "name": "stdout",
     "output_type": "stream",
     "text": [
      "part 2 - result: 93209116744825\n"
     ]
    }
   ],
   "source": [
    "def solve2(txt):\n",
    "    labels = (\"A\", \"B\", \"P\")\n",
    "    f = [0,0,10000000000000 ]\n",
    "    machines = tuple(\n",
    "        {\n",
    "            labels[i]: tuple(\n",
    "                int(str.replace(\"X\", \"\").replace(\"Y\", \"\").replace(\"=\", \"\")) + f[i]\n",
    "                for str in line.split(\":\")[1].split(\", \")\n",
    "            )\n",
    "            for i, line in enumerate(set.split(\"\\n\"))\n",
    "        }\n",
    "        for set in txt.split(\"\\n\\n\")\n",
    "    )\n",
    "\n",
    "    def get_combos(m):\n",
    "        combs = []\n",
    "        det = m[\"A\"][0]*m[\"B\"][1] - m[\"A\"][1]*m[\"B\"][0]\n",
    "        if det != 0:\n",
    "            pA = (m[\"B\"][1]*m[\"P\"][0] - m[\"B\"][0]*m[\"P\"][1])/det\n",
    "            pB = (-m[\"A\"][1]*m[\"P\"][0] + m[\"A\"][0]*m[\"P\"][1])/det\n",
    "        if pA % 1 == 0 and pB % 1 == 0:\n",
    "            combs.append({\"A\": int(pA), \"B\": int(pB)})\n",
    "        return combs\n",
    "\n",
    "    tokens = 0\n",
    "    for m in machines:\n",
    "        combos = get_combos(m)\n",
    "        if combos:\n",
    "            tokens += min([c[\"A\"] * 3 + c[\"B\"] for c in get_combos(m)])\n",
    "    return tokens\n",
    "\n",
    "print(f\"part 2 - result: {solve2(full_txt)}\")\n"
   ]
  }
 ],
 "metadata": {
  "kernelspec": {
   "display_name": "base",
   "language": "python",
   "name": "python3"
  },
  "language_info": {
   "codemirror_mode": {
    "name": "ipython",
    "version": 3
   },
   "file_extension": ".py",
   "mimetype": "text/x-python",
   "name": "python",
   "nbconvert_exporter": "python",
   "pygments_lexer": "ipython3",
   "version": "3.12.7"
  }
 },
 "nbformat": 4,
 "nbformat_minor": 2
}
