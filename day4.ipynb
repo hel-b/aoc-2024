{
 "cells": [
  {
   "cell_type": "code",
   "execution_count": 26,
   "metadata": {},
   "outputs": [
    {
     "name": "stdout",
     "output_type": "stream",
     "text": [
      "test result - part 1: 18\n",
      "full result - part 1: 2591\n"
     ]
    }
   ],
   "source": [
    "test = [\n",
    "    \"MMMSXXMASM\",\n",
    "    \"MSAMXMSMSA\",\n",
    "    \"AMXSXMAAMM\",\n",
    "    \"MSAMASMSMX\",\n",
    "    \"XMASAMXAMM\",\n",
    "    \"XXAMMXXAMA\",\n",
    "    \"SMSMSASXSS\",\n",
    "    \"SAXAMASAAA\",\n",
    "    \"MAMMMXMMMM\",\n",
    "    \"MXMXAXMASX\",\n",
    "]\n",
    "\n",
    "def find_xmas(m):\n",
    "    rows = len(m)\n",
    "    cols = len(m[0])\n",
    "    cnt = 0\n",
    "    # pad m with edges of width 3\n",
    "    m_p = (\n",
    "        [\".\" * (cols + 6)] * 3\n",
    "        + [\".\" * 3 + row + \".\" * 3 for row in m]\n",
    "        + [\".\" * (cols + 6)] * 3\n",
    "    )\n",
    "    dir = [(0, 1), (1, 1), (1, 0), (1, -1), (0, -1), (-1, -1), (-1, 0), (-1, 1)]\n",
    "    for i in range(3, rows + 3):\n",
    "        for j in range(3, cols + 3):\n",
    "            if m_p[i][j] == \"X\":\n",
    "                for d in dir:\n",
    "                    if (\n",
    "                        \"\".join([m_p[i + k * d[0]][j + k * d[1]] for k in range(1, 4)])\n",
    "                        == \"MAS\"\n",
    "                    ):\n",
    "                        cnt += 1\n",
    "    return cnt\n",
    "\n",
    "\n",
    "print(f\"test result - part 1: {find_xmas(test)}\")\n",
    "\n",
    "data = []\n",
    "with open(\"day4.txt\") as f:\n",
    "    data = f.readlines()\n",
    "    # for line in f.readlines():\n",
    "    #     data[:len(data)] = line  \n",
    "print(f\"full result - part 1: {find_xmas(data)}\")"
   ]
  },
  {
   "cell_type": "code",
   "execution_count": 29,
   "metadata": {},
   "outputs": [
    {
     "name": "stdout",
     "output_type": "stream",
     "text": [
      "test result - part 2: 9\n",
      "full result - part 2: 1880\n"
     ]
    }
   ],
   "source": [
    "def find_xmas2(m):\n",
    "    rows = len(m)\n",
    "    cols = len(m[0])\n",
    "    cnt = 0\n",
    "    # pad m with edges of width 3\n",
    "    m_p = (\n",
    "        [\".\" * (cols + 6)] * 3\n",
    "        + [\".\" * 3 + row + \".\" * 3 for row in m]\n",
    "        + [\".\" * (cols + 6)] * 3\n",
    "    )\n",
    "    dir = [(1, 1),(-1, 1)]\n",
    "    for i in range(3, rows + 3):\n",
    "        for j in range(3, cols + 3):\n",
    "            if m_p[i][j] == \"A\":\n",
    "                is_xmas = True\n",
    "                for d in dir:\n",
    "                   line =  \"\".join([m_p[i + k * d[0]][j + k * d[1]] for k in range(-1, 2)])\n",
    "                   if line != \"MAS\" and line != \"SAM\": is_xmas = False\n",
    "                cnt += is_xmas\n",
    "    return cnt\n",
    "\n",
    "print(f\"test result - part 2: {find_xmas2(test)}\")\n",
    "\n",
    "print(f\"full result - part 2: {find_xmas2(data)}\")"
   ]
  }
 ],
 "metadata": {
  "kernelspec": {
   "display_name": "base",
   "language": "python",
   "name": "python3"
  },
  "language_info": {
   "codemirror_mode": {
    "name": "ipython",
    "version": 3
   },
   "file_extension": ".py",
   "mimetype": "text/x-python",
   "name": "python",
   "nbconvert_exporter": "python",
   "pygments_lexer": "ipython3",
   "version": "3.12.7"
  }
 },
 "nbformat": 4,
 "nbformat_minor": 2
}
