{
 "cells": [
  {
   "cell_type": "code",
   "execution_count": 99,
   "metadata": {},
   "outputs": [
    {
     "name": "stdout",
     "output_type": "stream",
     "text": [
      "part 1 - test: 55312\n",
      "part 1 - real: 182081\n"
     ]
    }
   ],
   "source": [
    "full_data = \"8435 234 928434 14 0 7 92446 8992692\"\n",
    "\n",
    "test = \"125 17\"\n",
    "\n",
    "def solve(data):\n",
    "    stones = data.split(\" \")\n",
    "    def blink_op(s):\n",
    "        if s == '0':\n",
    "            return ['1']\n",
    "        digs = len(s)\n",
    "        if digs % 2 == 0: \n",
    "            return [f\"{int(s[:int(digs/2)])}\", f\"{int(s[int(digs/2):])}\"]\n",
    "        else:\n",
    "            return [f\"{int(s)*2024}\"]\n",
    "    b = 0\n",
    "    def stone_blink(stones, i):\n",
    "        if i < 25:\n",
    "            return [s_b for s in stones for s_b in stone_blink(blink_op(s), i+1)]\n",
    "        else: \n",
    "            return stones\n",
    "\n",
    "    return len(stone_blink(stones, 0))\n",
    "        \n",
    "\n",
    "print(f\"part 1 - test: {solve(test)}\")\n",
    "print(f\"part 1 - real: {solve(full_data)}\")\n",
    "\n"
   ]
  },
  {
   "cell_type": "code",
   "execution_count": 109,
   "metadata": {},
   "outputs": [
    {
     "name": "stdout",
     "output_type": "stream",
     "text": [
      "part 2 - test: 65601038650482\n",
      "part 2 - real: 216318908621637\n"
     ]
    }
   ],
   "source": [
    "\n",
    "def solve2(stones):\n",
    "    memory = {}\n",
    "    def memoize(f):\n",
    "        def inner(*args):\n",
    "            if args not in memory:\n",
    "                memory[args] = f(*args)\n",
    "            return memory[args]\n",
    "        return inner\n",
    "    @memoize\n",
    "    def blink_op(s):\n",
    "        if s == '0':\n",
    "            return ['1']\n",
    "        digs = len(s)\n",
    "        if digs % 2 == 0: \n",
    "            half = int(digs/2)\n",
    "            return [f\"{int(s[:half])}\", f\"{int(s[half:])}\"]\n",
    "        else:\n",
    "            return [f\"{int(s)*2024}\"]\n",
    "    @memoize\n",
    "    def stone_blink(b, *stones):\n",
    "        if b < 75:\n",
    "            return sum([stone_blink(b+1, *blink_op(s)) for s in stones])\n",
    "        else: \n",
    "            return len(stones)\n",
    "    return stone_blink(0, *stones)     \n",
    "\n",
    "print(f\"part 2 - test: {solve2(test.split(\" \"))}\")\n",
    "print(f\"part 2 - real: {solve2(full_data.split(\" \"))}\")"
   ]
  }
 ],
 "metadata": {
  "kernelspec": {
   "display_name": "base",
   "language": "python",
   "name": "python3"
  },
  "language_info": {
   "codemirror_mode": {
    "name": "ipython",
    "version": 3
   },
   "file_extension": ".py",
   "mimetype": "text/x-python",
   "name": "python",
   "nbconvert_exporter": "python",
   "pygments_lexer": "ipython3",
   "version": "3.12.7"
  }
 },
 "nbformat": 4,
 "nbformat_minor": 2
}
