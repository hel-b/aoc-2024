{
 "cells": [
  {
   "cell_type": "code",
   "execution_count": 35,
   "metadata": {},
   "outputs": [
    {
     "name": "stdout",
     "output_type": "stream",
     "text": [
      "part 1 - result: 5551\n"
     ]
    }
   ],
   "source": [
    "test = [\n",
    "    \"....#.....\",\n",
    "    \".........#\",\n",
    "    \"..........\",\n",
    "    \"..#.......\",\n",
    "    \".......#..\",\n",
    "    \"..........\",\n",
    "    \".#..^.....\",\n",
    "    \"........#.\",\n",
    "    \"#.........\",\n",
    "    \"......#...\"\n",
    "\n",
    "]\n",
    "\n",
    "dir = [\n",
    "    (-1,0),\n",
    "    (0,1),\n",
    "    (1,0),\n",
    "    (0,-1), \n",
    "]\n",
    "\n",
    "def solve(map):\n",
    "    rows = len(map)\n",
    "    cols = len(map[0])\n",
    "    strt = [[i, map[i].index(\"^\")] for i in range(rows) if \"^\" in map[i]][0]\n",
    "    pos = strt\n",
    "    d_i  = 0\n",
    "\n",
    "    def in_bounds(pos):\n",
    "        return pos[0] >= 0 and pos[0] < rows and pos[1] >= 0 and pos[1] < cols\n",
    "    while True:\n",
    "        map[pos[0]] = map[pos[0]][:pos[1]] + \"X\" + map[pos[0]][pos[1]+1:]\n",
    "        nxt = [dir[d_i][i] + pos[i] for i in range(2)] \n",
    "        if not in_bounds(nxt): break\n",
    "        while map[nxt[0]][nxt[1]] == \"#\":\n",
    "            d_i = (d_i + 1) % 4\n",
    "            nxt = [dir[d_i][i] + pos[i] for i in range(2)]\n",
    "            if not in_bounds(nxt): break\n",
    "        pos = nxt\n",
    "    return sum([row.count(\"X\") for row in map] )\n",
    "# print(f\"part 1 - test: {solve(test.copy())}\")\n",
    "full_data = []\n",
    "with open(\"./day6.txt\", \"r\") as f:\n",
    "    #remove \\n from each line\n",
    "    full_data =[ line.strip('\\n') for line in f.readlines()]\n",
    "print(f\"part 1 - result: {solve(full_data.copy())}\")\n"
   ]
  },
  {
   "cell_type": "code",
   "execution_count": 36,
   "metadata": {},
   "outputs": [
    {
     "name": "stdout",
     "output_type": "stream",
     "text": [
      "part 2 - test: 6\n"
     ]
    },
    {
     "name": "stdout",
     "output_type": "stream",
     "text": [
      "part 2 - result: 1939\n"
     ]
    }
   ],
   "source": [
    "def solve2(map):\n",
    "    rows = len(map)\n",
    "    cols = len(map[0])\n",
    "    strt = [[i, map[i].index(\"^\")] for i in range(rows) if \"^\" in map[i]][0]\n",
    "\n",
    "    def isLoop(map, strt):\n",
    "        pos = strt\n",
    "        turns = set()\n",
    "        d_i = 0\n",
    "        def in_bounds(pos):\n",
    "            return pos[0] >= 0 and pos[0] < rows and pos[1] >= 0 and pos[1] < cols\n",
    "        isLoop = False\n",
    "        while True:\n",
    "            try:\n",
    "                map[pos[0]] = map[pos[0]][: pos[1]] + \"X\" + map[pos[0]][pos[1] + 1 :]\n",
    "            except:\n",
    "                print(pos[0], pos[1])\n",
    "            nxt = [dir[d_i][i] + pos[i] for i in range(2)]\n",
    "            if not in_bounds(nxt):\n",
    "                break\n",
    "            if map[nxt[0]][nxt[1]] == \"#\":\n",
    "                d_i = (d_i + 1) % 4\n",
    "                turn = \"_\".join([str(x) for x in pos + [d_i]])\n",
    "                if turn in turns:\n",
    "                    isLoop = True\n",
    "                    break\n",
    "                else:\n",
    "                    turns.add(turn)\n",
    "            else:\n",
    "                pos = nxt\n",
    "        return isLoop\n",
    "\n",
    "    isLoop(map, strt)\n",
    "\n",
    "    pts = []\n",
    "    for i in range(rows):\n",
    "        if \"X\" in map[i]:\n",
    "            for j in range(cols):\n",
    "                if map[i][j] == \"X\":\n",
    "                    pts.append([i, j])\n",
    "\n",
    "    cnt = 0\n",
    "    for pt in pts:\n",
    "        map[pt[0]] = map[pt[0]][: pt[1]] + \"#\" + map[pt[0]][pt[1] + 1 :]\n",
    "        cnt += isLoop(map, strt)\n",
    "        map[pt[0]] = map[pt[0]][: pt[1]] + \"X\" + map[pt[0]][pt[1] + 1 :]\n",
    "    return cnt\n",
    "\n",
    "\n",
    "print(f\"part 2 - test: {solve2(test.copy())}\")\n",
    "print(f\"part 2 - result: {solve2(full_data.copy())}\")"
   ]
  }
 ],
 "metadata": {
  "kernelspec": {
   "display_name": "base",
   "language": "python",
   "name": "python3"
  },
  "language_info": {
   "codemirror_mode": {
    "name": "ipython",
    "version": 3
   },
   "file_extension": ".py",
   "mimetype": "text/x-python",
   "name": "python",
   "nbconvert_exporter": "python",
   "pygments_lexer": "ipython3",
   "version": "3.12.7"
  }
 },
 "nbformat": 4,
 "nbformat_minor": 2
}
