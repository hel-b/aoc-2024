{
 "cells": [
  {
   "cell_type": "code",
   "execution_count": 36,
   "metadata": {},
   "outputs": [
    {
     "name": "stdout",
     "output_type": "stream",
     "text": [
      "part 1 - test: 4,6,3,5,6,3,5,2,1,0\n",
      "part 1 - result: 1,5,0,5,2,0,1,3,5\n"
     ]
    }
   ],
   "source": [
    "def ops(struct, A, B, C):\n",
    "        out = []\n",
    "        i = 0\n",
    "        structs_num = len(struct) \n",
    "        while i <  structs_num:\n",
    "            combo = {\n",
    "                0: 0,\n",
    "                1: 1,\n",
    "                2: 2,\n",
    "                3: 3,\n",
    "                4: A,\n",
    "                5: B,\n",
    "                6: C,\n",
    "            }\n",
    "            code, rand = struct[i]\n",
    "            match code:\n",
    "                case 0: \n",
    "                    A = int(A / 2**combo[rand])\n",
    "                case 1:\n",
    "                    B = B ^ rand\n",
    "                case 2:\n",
    "                    B = combo[rand] % 8\n",
    "                case 4:\n",
    "                    B = B ^ C\n",
    "                case 5: \n",
    "                    out.append(combo[rand] % 8)\n",
    "                case 6:\n",
    "                    B = int(A / 2**combo[rand])\n",
    "                case 7:\n",
    "                    C = int(A / 2**combo[rand])\n",
    "                case 3:\n",
    "                    if A != 0:\n",
    "                        i = rand\n",
    "                        continue\n",
    "            i += 1            \n",
    "        return out\n",
    "\n",
    "def solve(filename):\n",
    "    tmp1, tmp2 = open(filename).read().split(\"\\n\\n\")\n",
    "    A, B, C = [int(r.split(\": \")[1]) for r in tmp1.split(\"\\n\") ]\n",
    "    tmp2 = [int(x) for x in tmp2.split(\": \")[1].split(\",\")]\n",
    "    struct = tuple((tmp2[i*2], tmp2[i*2 + 1]) for i in range(int(len(tmp2)/2)))\n",
    "    del tmp1, tmp2\n",
    "    # struct = tuple([[4,0],])\n",
    "    # A, B, C  = [0,2024,43690]\n",
    "    \n",
    "    out = ops(struct, A, B, C)\n",
    "    return \",\".join([f\"{x}\" for x in out])\n",
    "\n",
    "print(f\"part 1 - test: {solve(\"./test17.txt\")}\")\n",
    "print(f\"part 1 - result: {solve(\"./day17.txt\")}\")\n",
    "\n",
    "\n",
    "\n",
    "\n",
    "\n",
    "\n"
   ]
  },
  {
   "cell_type": "code",
   "execution_count": 56,
   "metadata": {},
   "outputs": [
    {
     "name": "stdout",
     "output_type": "stream",
     "text": [
      "part 1 - test: 117440\n",
      "part 1 - result: 236581108670061\n"
     ]
    }
   ],
   "source": [
    "\n",
    "def solve2(filename):\n",
    "    tmp1, tmp2 = open(filename).read().split(\"\\n\\n\")\n",
    "    A, B, C = [int(r.split(\": \")[1]) for r in tmp1.split(\"\\n\") ]\n",
    "    tmp2 = [int(x) for x in tmp2.split(\": \")[1].split(\",\")]\n",
    "    flat_struct = tmp2\n",
    "    struct = tuple((tmp2[i*2], tmp2[i*2 + 1]) for i in range(int(len(tmp2)/2)))\n",
    "    del tmp1, tmp2\n",
    "    A = 8**(len(flat_struct)-1)\n",
    "    results = []\n",
    "    while True:\n",
    "        out = ops(struct, A, B, C)\n",
    "        if out == flat_struct:\n",
    "            break\n",
    "        results.append([A, out])\n",
    "        i = len(out)-1\n",
    "        while True:\n",
    "            if out[i] != flat_struct[i]:\n",
    "                A += 8**i  \n",
    "                break\n",
    "            else:\n",
    "                i -= 1      \n",
    "\n",
    "    return A\n",
    "\n",
    "print(f\"part 1 - test: {solve2(\"./test17-2.txt\")}\")\n",
    "print(f\"part 1 - result: {solve2(\"./day17.txt\")}\")\n",
    "results = solve2(\"./day17.txt\")\n"
   ]
  }
 ],
 "metadata": {
  "kernelspec": {
   "display_name": "base",
   "language": "python",
   "name": "python3"
  },
  "language_info": {
   "codemirror_mode": {
    "name": "ipython",
    "version": 3
   },
   "file_extension": ".py",
   "mimetype": "text/x-python",
   "name": "python",
   "nbconvert_exporter": "python",
   "pygments_lexer": "ipython3",
   "version": "3.12.2"
  }
 },
 "nbformat": 4,
 "nbformat_minor": 2
}
