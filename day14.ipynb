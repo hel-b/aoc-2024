{
 "cells": [
  {
   "cell_type": "code",
   "execution_count": 1,
   "metadata": {},
   "outputs": [
    {
     "name": "stdout",
     "output_type": "stream",
     "text": [
      "part 1 - test: 12\n",
      "part 1 - real: 229980828\n"
     ]
    }
   ],
   "source": [
    "def solve(filename, rows, cols):\n",
    "    data = []\n",
    "    with open(filename) as f:\n",
    "        data = tuple(\n",
    "            tuple(tuple(int(c) for c in xy[2:].split(\",\")) for xy in pv.split(\" \"))\n",
    "            for pv in f.read().splitlines()\n",
    "        )\n",
    "\n",
    "    y_mid = rows // 2\n",
    "    x_mid = cols // 2\n",
    "    q = [0,0,0,0]\n",
    "    prod = 1\n",
    "    for r in data:\n",
    "        p = list(r[0])\n",
    "        v = r[1]\n",
    "        for _ in range(100):\n",
    "            p = [(p[0] + v[0]) % cols, (p[1] + v[1]) % rows]\n",
    "        if p[1] != y_mid and p[0] != x_mid:\n",
    "            quad = (2 if p[1] > y_mid else 0) + (1 if p[0] > x_mid else 0)\n",
    "            q[quad] += 1\n",
    "    for v in q:\n",
    "        prod *= v\n",
    "    return prod\n",
    "rows = 11\n",
    "cols = 7\n",
    "print(f\"part 1 - test: {solve(\"./test14.txt\", rows, cols)}\")\n",
    "rows = 103\n",
    "cols = 101\n",
    "print(f\"part 1 - real: {solve(\"./day14.txt\", rows, cols)}\")\n"
   ]
  },
  {
   "cell_type": "code",
   "execution_count": 1,
   "metadata": {},
   "outputs": [],
   "source": [
    "full_data = []\n",
    "with open(\"./day14.txt\") as f:\n",
    "    full_data = [\n",
    "        [[int(c) for c in xy[2:].split(\",\")] for xy in pv.split(\" \")]\n",
    "        for pv in f.read().splitlines()\n",
    "    ]"
   ]
  },
  {
   "cell_type": "code",
   "execution_count": 2,
   "metadata": {},
   "outputs": [],
   "source": [
    "\n",
    "import numpy as np\n",
    "from PIL import Image\n",
    "data = full_data.copy()\n",
    "rows = 103\n",
    "cols = 101\n",
    "map = np.zeros((rows, cols), dtype=np.uint8)\n",
    "def solve2(s):\n",
    "    tmp  = map.copy()   \n",
    "    q = [0,0,0,0]\n",
    "    y_mid = rows // 2\n",
    "    x_mid = cols // 2\n",
    "    for r in data:\n",
    "        p = r[0]\n",
    "        v = r[1]\n",
    "        p = [(p[0] + v[0]) % cols, (p[1] + v[1]) % rows]\n",
    "        r[0] = p\n",
    "        tmp[p[1]][p[0]] = 255\n",
    "    im = Image.fromarray(tmp)\n",
    "    s += 1\n",
    "    im.save(f\"./day14/{s}.png\")\n",
    "    return s\n",
    "s = 0\n",
    "while s < 10000:\n",
    "    s = solve2(s)\n"
   ]
  }
 ],
 "metadata": {
  "kernelspec": {
   "display_name": "base",
   "language": "python",
   "name": "python3"
  },
  "language_info": {
   "codemirror_mode": {
    "name": "ipython",
    "version": 3
   },
   "file_extension": ".py",
   "mimetype": "text/x-python",
   "name": "python",
   "nbconvert_exporter": "python",
   "pygments_lexer": "ipython3",
   "version": "3.12.7"
  }
 },
 "nbformat": 4,
 "nbformat_minor": 2
}
