{
 "cells": [
  {
   "cell_type": "code",
   "execution_count": null,
   "metadata": {},
   "outputs": [
    {
     "name": "stdout",
     "output_type": "stream",
     "text": [
      "part 1 - test: 3749\n",
      "part 1 - result: 1260333054159\n"
     ]
    }
   ],
   "source": [
    "import math\n",
    "test = [\n",
    "    \"190: 10 19\",\n",
    "    \"3267: 81 40 27\",\n",
    "    \"83: 17 5\",\n",
    "    \"156: 15 6\",\n",
    "    \"7290: 6 8 6 15\",\n",
    "    \"161011: 16 10 13\",\n",
    "    \"192: 17 8 14\",\n",
    "    \"21037: 9 7 18 13\",\n",
    "    \"292: 11 6 16 20\"\n",
    "]\n",
    "\n",
    "def solve(data):\n",
    "    raw = [[x.split(\" \") for x in line.split(\": \")] for line in data]\n",
    "\n",
    "    eqs =  [[int(v[0][0]), [int(x) for x in v[1]]] for v in raw]\n",
    "\n",
    "    out = 0\n",
    "\n",
    "    for eq in eqs:\n",
    "        n_ops = len(eq[1]) - 1\n",
    "        for p in range(2**n_ops):\n",
    "            vals = eq[1].copy()\n",
    "            ops = [math.floor(p/(2**i)) % 2 for i in range(n_ops)]\n",
    "            total = vals[0] \n",
    "            for i in range(n_ops):\n",
    "                if ops[i]:\n",
    "                    total *= vals[i+1]\n",
    "                else:\n",
    "                    total += vals[i+1]\n",
    "            if total == eq[0]: \n",
    "                out += eq[0]\n",
    "                break\n",
    "    return out\n",
    "\n",
    "print(f\"part 1 - test: {solve(test.copy())}\")       \n",
    "\n",
    "full_data = []\n",
    "with open(\"day7.txt\") as f:\n",
    "    full_data = f.read().splitlines()\n",
    " \n",
    "print(f\"part 1 - result: {solve(full_data.copy())}\")              \n",
    "\n",
    "\n"
   ]
  },
  {
   "cell_type": "code",
   "execution_count": 3,
   "metadata": {},
   "outputs": [
    {
     "name": "stdout",
     "output_type": "stream",
     "text": [
      "part 1 - test: 11387\n",
      "part 1 - result: 162042343638683\n"
     ]
    }
   ],
   "source": [
    "def solve2(data):\n",
    "    raw = [[x.split(\" \") for x in line.split(\": \")] for line in data]\n",
    "\n",
    "    eqs =  [[int(v[0][0]), [int(x) for x in v[1]]] for v in raw]\n",
    "\n",
    "    out = 0\n",
    "\n",
    "    for eq in eqs:\n",
    "        n_ops = len(eq[1]) - 1\n",
    "        for p in range(3**n_ops):\n",
    "            vals = eq[1].copy()\n",
    "            ops = [math.floor(p/(3**i)) % 3 for i in range(n_ops)]\n",
    "            total = vals[0] \n",
    "            for i in range(n_ops):\n",
    "                if ops[i] == 1:\n",
    "                    total *= vals[i+1]\n",
    "                elif ops[i] == 2:\n",
    "                    total = int(f\"{total}{vals[i+1]}\")\n",
    "                else:\n",
    "                    total += vals[i+1]\n",
    "            if total == eq[0]: \n",
    "                out += eq[0]\n",
    "                break\n",
    "    return out\n",
    "\n",
    "print(f\"part 1 - test: {solve2(test.copy())}\")      \n",
    "print(f\"part 1 - result: {solve2(full_data.copy())}\") "
   ]
  }
 ],
 "metadata": {
  "kernelspec": {
   "display_name": "base",
   "language": "python",
   "name": "python3"
  },
  "language_info": {
   "codemirror_mode": {
    "name": "ipython",
    "version": 3
   },
   "file_extension": ".py",
   "mimetype": "text/x-python",
   "name": "python",
   "nbconvert_exporter": "python",
   "pygments_lexer": "ipython3",
   "version": "3.12.7"
  }
 },
 "nbformat": 4,
 "nbformat_minor": 2
}
