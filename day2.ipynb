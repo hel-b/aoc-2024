{
 "cells": [
  {
   "cell_type": "code",
   "execution_count": 25,
   "metadata": {},
   "outputs": [
    {
     "name": "stdout",
     "output_type": "stream",
     "text": [
      "test data: 2\n"
     ]
    }
   ],
   "source": [
    "test_data = [\n",
    "    \"7 6 4 2 1\",\n",
    "    \"1 2 7 8 9\",\n",
    "    \"9 7 6 2 1\",\n",
    "    \"1 3 2 4 5\",\n",
    "    \"8 6 4 4 1\",\n",
    "    \"1 3 6 7 9\",\n",
    "]\n",
    "\n",
    "def numSafe(raw_data):\n",
    "    data = [[int(y) for y in x.split()] for x in raw_data]\n",
    "\n",
    "    data_levels = [[rpt[i] - rpt[i + 1] for i in range(len(rpt)-1)] for rpt in data]\n",
    "\n",
    "    isSafe = [all(x < 0 and x > -4 for x in lvls) or all(x > 0 and x < 4 for x in lvls) for lvls in data_levels]\n",
    "\n",
    "    return sum(isSafe)\n",
    "\n",
    "print(f\"test data: {numSafe(test_data)}\")"
   ]
  },
  {
   "cell_type": "code",
   "execution_count": 26,
   "metadata": {},
   "outputs": [
    {
     "name": "stdout",
     "output_type": "stream",
     "text": [
      "part 1: 510\n"
     ]
    }
   ],
   "source": [
    "full_data = []\n",
    "\n",
    "with open(\"day2.txt\") as f:\n",
    "    full_data = f.readlines()\n",
    "\n",
    "print(f\"part 1: {numSafe(full_data)}\")"
   ]
  },
  {
   "cell_type": "code",
   "execution_count": 50,
   "metadata": {},
   "outputs": [
    {
     "name": "stdout",
     "output_type": "stream",
     "text": [
      "test data on part 2: 4\n",
      "part 2: 553\n"
     ]
    }
   ],
   "source": [
    "def numSafePart2(raw_data):\n",
    "    data = [[int(y) for y in x.split()] for x in raw_data]\n",
    "\n",
    "    data_levels = [[ rpt[i + 1] - rpt[i] for i in range(len(rpt)-1)] for rpt in data]\n",
    "\n",
    "    isSafe = [all(x < 0 and x > -4 for x in lvls) or all(x > 0 and x < 4 for x in lvls) for lvls in data_levels]\n",
    "    \n",
    "\n",
    "    for i in range(len(data)):\n",
    "       if not isSafe[i]:\n",
    "            for j in range(len(data[i])):\n",
    "                rpt = [data[i][k] for k in range(len(data[i])) if j != k]\n",
    "                lvls = [rpt[k + 1] - rpt[k] for k in range(len(rpt)-1)]\n",
    "                if all(x < 0 and x > -4 for x in lvls) or all(x > 0 and x < 4 for x in lvls):\n",
    "                    isSafe[i] = True\n",
    "    return sum(isSafe)\n",
    "\n",
    "            \n",
    "                \n",
    "          \n",
    "\n",
    "print(f\"test data on part 2: {numSafePart2(test_data)}\")\n",
    "print(f\"part 2: {numSafePart2(full_data)}\")\n",
    "\n"
   ]
  }
 ],
 "metadata": {
  "kernelspec": {
   "display_name": "base",
   "language": "python",
   "name": "python3"
  },
  "language_info": {
   "codemirror_mode": {
    "name": "ipython",
    "version": 3
   },
   "file_extension": ".py",
   "mimetype": "text/x-python",
   "name": "python",
   "nbconvert_exporter": "python",
   "pygments_lexer": "ipython3",
   "version": "3.12.7"
  }
 },
 "nbformat": 4,
 "nbformat_minor": 2
}
