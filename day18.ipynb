{
 "cells": [
  {
   "cell_type": "code",
   "execution_count": null,
   "metadata": {},
   "outputs": [
    {
     "name": "stdout",
     "output_type": "stream",
     "text": [
      "#########\n",
      "#...#...#\n",
      "#..#..#.#\n",
      "#....#..#\n",
      "#...#..##\n",
      "#..#..#.#\n",
      "#.#..#..#\n",
      "##.#....#\n",
      "#########\n",
      "part 1 - test: 22\n"
     ]
    }
   ],
   "source": [
    "def solve(filename,size, bytes):\n",
    "    pos = [(int(s[0]), int(s[1])) for s in [s.split(\",\") for s in open(filename).read().splitlines()]]\n",
    "    map = [[\"#\"]*(size+2)]+[[\"#\"]+[\".\" for _ in range(size)]+[\"#\"] for _ in range(size)]+[[\"#\"]*(size+2)]\n",
    "    for j,i in pos[:bytes]:\n",
    "        map[i+1][j+1] = \"#\"\n",
    "\n",
    "    for line in map: print(\"\".join(line))\n",
    "    strt = (1,1)\n",
    "    end = (size, size)\n",
    "    nodes = tuple((i,j) for i, line in enumerate(map) for j, c in enumerate(line) if c != \"#\")\n",
    "    get_nbrs =lambda i,j: tuple((i+di,j+dj) for di, dj in [(1,0),(-1,0),(0,1),(0,-1)] if map[i+di][j+dj] != \"#\")\n",
    "    graph = {((i,j)): get_nbrs(i,j) for i,j in nodes}\n",
    "    visited = {g: False for g in graph}\n",
    "    dists = {g: float(\"inf\") for g in graph}\n",
    "    dists[(strt)] = 0\n",
    "    pq = [(0, (strt))]\n",
    "\n",
    "    while pq:\n",
    "        dist, node =  pq.pop()\n",
    "        if visited[node]:\n",
    "            continue\n",
    "        visited[node] = True\n",
    "        for nbr in graph[node]:\n",
    "            nbr_dist  = dist + 1*(nbr != node) \n",
    "            if nbr_dist < dists[nbr]:\n",
    "                dists[nbr] = nbr_dist\n",
    "                pq.append((nbr_dist, nbr))\n",
    "        pq.sort(key=lambda v: v[0], reverse=True)\n",
    "\n",
    "    return dists[end] \n",
    "print(f\"part 1 - test: {solve(\"./test18.txt\", 7, 11)}\")\n",
    "# print(f\"part 1 - result: {solve(\"./day18.txt\", 71, 1024)}\")\n",
    "\n"
   ]
  },
  {
   "cell_type": "code",
   "execution_count": 93,
   "metadata": {},
   "outputs": [
    {
     "name": "stdout",
     "output_type": "stream",
     "text": [
      "part 2 - test: (6, 1)\n",
      "part 2 - result: (28, 44)\n"
     ]
    }
   ],
   "source": [
    "def solve2(filename, size, b_i):\n",
    "    pos = [(int(s[0]), int(s[1])) for s in [s.split(\",\") for s in open(filename).read().splitlines()]]\n",
    "    map = [[\"#\"]*(size+2)]+[[\"#\"]+[\".\" for _ in range(size)]+[\"#\"] for _ in range(size)]+[[\"#\"]*(size+2)]\n",
    "    for j,i in pos[:b_i+1]:\n",
    "        map[i+1][j+1] = \"#\"\n",
    "\n",
    "    # for line in map: print(\"\".join(line))\n",
    "    pos_no = len(pos)\n",
    "    strt = (1,1)\n",
    "    end = (size, size)\n",
    "    get_nbrs =lambda i,j: tuple((i+di,j+dj) for di, dj in [(1,0),(-1,0),(0,1),(0,-1)] if map[i+di][j+dj] != \"#\")\n",
    "    nodes = [(i,j) for i, line in enumerate(map) for j, c in enumerate(line) if c != \"#\"]\n",
    "    while True:    \n",
    "        graph = {((i,j)): get_nbrs(i,j) for i,j in nodes}\n",
    "        visited = {g: False for g in graph}\n",
    "        dists = {g: float(\"inf\") for g in graph}\n",
    "        dists[(strt)] = 0\n",
    "        pq = [(0, (strt))]\n",
    "\n",
    "        while pq:\n",
    "            dist, node =  pq.pop()\n",
    "            if visited[node]:\n",
    "                continue\n",
    "            visited[node] = True\n",
    "            for nbr in graph[node]:\n",
    "                nbr_dist  = dist + 1*(nbr != node) \n",
    "                if nbr_dist < dists[nbr]:\n",
    "                    dists[nbr] = nbr_dist\n",
    "                    pq.append((nbr_dist, nbr))\n",
    "            pq.sort(key=lambda v: v[0], reverse=True)\n",
    "\n",
    "        if dists[end] == float(\"inf\"):\n",
    "            break\n",
    "        b_i += 1\n",
    "        if b_i  == pos_no:\n",
    "            return \"No Result\"\n",
    "        p_b = tuple(x+ 1 for x in reversed(pos[b_i]))\n",
    "        if not p_b in nodes:\n",
    "            return p_b, b_i\n",
    "        nodes.remove(p_b)\n",
    "        map[p_b[0]][p_b[1]] = \"#\" \n",
    "        \n",
    "    return pos[b_i]\n",
    "\n",
    "print(f\"part 2 - test: {solve2(\"./test18.txt\", 7, 20)}\")\n",
    "print(f\"part 2 - result: {solve2(\"./day18.txt\", 71, 1024)}\")\n",
    "    "
   ]
  }
 ],
 "metadata": {
  "kernelspec": {
   "display_name": "base",
   "language": "python",
   "name": "python3"
  },
  "language_info": {
   "codemirror_mode": {
    "name": "ipython",
    "version": 3
   },
   "file_extension": ".py",
   "mimetype": "text/x-python",
   "name": "python",
   "nbconvert_exporter": "python",
   "pygments_lexer": "ipython3",
   "version": "3.12.2"
  }
 },
 "nbformat": 4,
 "nbformat_minor": 2
}
