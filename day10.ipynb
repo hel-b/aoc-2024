{
 "cells": [
  {
   "cell_type": "code",
   "execution_count": 37,
   "metadata": {},
   "outputs": [
    {
     "name": "stdout",
     "output_type": "stream",
     "text": [
      "Part 1 - test: 36\n",
      "Part 1 - full: 737\n"
     ]
    }
   ],
   "source": [
    "test = [\n",
    "    \"89010123\",\n",
    "    \"78121874\",\n",
    "    \"87430965\",\n",
    "    \"96549874\",\n",
    "    \"45678903\",\n",
    "    \"32019012\",\n",
    "    \"01329801\",\n",
    "    \"10456732\",\n",
    "]\n",
    "\n",
    "\n",
    "\n",
    "\n",
    "def solve(map):\n",
    "    s_nodes = [{\"i\":i, \"j\":j, \"h\":int(c)} for i, line in enumerate(map) for j, c in enumerate(line) if c == '0']\n",
    "    rows = len(map)\n",
    "    cols = len(map[0])\n",
    "    def in_bounds(dir, cur):\n",
    "            return 0 <= dir[0] + cur[\"i\"] < cols and 0 <= dir[1] + cur[\"j\"] < len(map[0])\n",
    "    def find_paths(cur, strt):\n",
    "        paths = set()\n",
    "        for dir in [(-1, 0), (1, 0), (0, -1), (0, 1)]:\n",
    "            nxt = {\"i\": cur[\"i\"] + dir[0], \"j\": cur[\"j\"] + dir[1]}\n",
    "            if in_bounds(dir, cur):\n",
    "                nxt[\"h\"] = int(map[nxt[\"i\"]][nxt[\"j\"]])\n",
    "                if nxt[\"h\"] == cur[\"h\"] + 1:\n",
    "                    paths.update(find_paths(nxt, strt) if nxt[\"h\"] < 9 else {f\"{strt[\"i\"]}_{strt[\"j\"]}-{nxt[\"i\"]}_{nxt[\"j\"]}\"})\n",
    "        return paths\n",
    "\n",
    "    return sum([1 for s in s_nodes for p in find_paths(s,s) ])\n",
    "\n",
    "full_data = []\n",
    "with open(\"day10.txt\") as f:\n",
    "    full_data = f.read().splitlines()\n",
    "\n",
    "print(f\"Part 1 - test: {solve(test)}\")\n",
    "print(f\"Part 1 - full: {solve(full_data)}\")\n",
    "\n",
    "\n"
   ]
  },
  {
   "cell_type": "code",
   "execution_count": 40,
   "metadata": {},
   "outputs": [
    {
     "name": "stdout",
     "output_type": "stream",
     "text": [
      "Part 2 - test: 81\n",
      "Part 2 - full: 1619\n"
     ]
    }
   ],
   "source": [
    "def solve2(map):\n",
    "    s_nodes = [{\"i\":i, \"j\":j, \"h\":int(c)} for i, line in enumerate(map) for j, c in enumerate(line) if c == '0']\n",
    "    rows = len(map)\n",
    "    cols = len(map[0])\n",
    "    def in_bounds(dir, cur):\n",
    "            return 0 <= dir[0] + cur[\"i\"] < cols and 0 <= dir[1] + cur[\"j\"] < len(map[0])\n",
    "    def find_paths(cur, strt):\n",
    "        cnts = 0\n",
    "        for dir in [(-1, 0), (1, 0), (0, -1), (0, 1)]:\n",
    "            nxt = {\"i\": cur[\"i\"] + dir[0], \"j\": cur[\"j\"] + dir[1]}\n",
    "            if in_bounds(dir, cur):\n",
    "                nxt[\"h\"] = int(map[nxt[\"i\"]][nxt[\"j\"]])\n",
    "                if nxt[\"h\"] == cur[\"h\"] + 1:\n",
    "                    cnts += find_paths(nxt, strt) if nxt[\"h\"] < 9 else 1\n",
    "        return cnts\n",
    "\n",
    "    return sum([find_paths(s,s) for s in s_nodes])\n",
    "\n",
    "print(f\"Part 2 - test: {solve2(test)}\")\n",
    "print(f\"Part 2 - full: {solve2(full_data)}\")\n",
    "\n",
    "\n"
   ]
  }
 ],
 "metadata": {
  "kernelspec": {
   "display_name": "base",
   "language": "python",
   "name": "python3"
  },
  "language_info": {
   "codemirror_mode": {
    "name": "ipython",
    "version": 3
   },
   "file_extension": ".py",
   "mimetype": "text/x-python",
   "name": "python",
   "nbconvert_exporter": "python",
   "pygments_lexer": "ipython3",
   "version": "3.12.7"
  }
 },
 "nbformat": 4,
 "nbformat_minor": 2
}
